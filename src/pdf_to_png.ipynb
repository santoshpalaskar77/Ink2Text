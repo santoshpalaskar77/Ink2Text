{
 "cells": [
  {
   "cell_type": "code",
   "execution_count": null,
   "metadata": {},
   "outputs": [
    {
     "name": "stdout",
     "output_type": "stream",
     "text": [
      "Trimmed image saved as /home/santoshpalaskar77/IE_643/TexTeller/src/saved_converted_imges/converted_trimmed_png1.png\n"
     ]
    }
   ],
   "source": [
    "from pdf2image import convert_from_path\n",
    "from PIL import Image\n",
    "import numpy as np\n",
    "\n",
    "# Path to your single-page PDF file\n",
    "#pdf_path = '/home/santoshpalaskar77/IE_643/TexTeller/src/test_pdfs/test2.pdf'\n",
    "pdf_path = '/home/santoshpalaskar77/IE_643/TexTeller/src/test_pdfs/workflow.drawio.pdf'\n",
    "# Convert the single-page PDF to an image\n",
    "images = convert_from_path(pdf_path)\n",
    "\n",
    "# Select the first (and only) image\n",
    "image = images[0]\n",
    "\n",
    "# Convert the image to an array\n",
    "image_array = np.array(image)\n",
    "\n",
    "# Convert to grayscale and create a binary mask (where white pixels are True)\n",
    "gray_image = np.mean(image_array, axis=2)  # Convert to grayscale\n",
    "binary_mask = gray_image > 240  # Adjust the threshold as needed for white\n",
    "\n",
    "# Get the coordinates of non-white pixels\n",
    "coords = np.argwhere(~binary_mask)\n",
    "\n",
    "# Check if any non-white pixels were found\n",
    "if coords.size > 0:\n",
    "    y0, x0 = coords.min(axis=0)\n",
    "    y1, x1 = coords.max(axis=0)\n",
    "\n",
    "    # Crop the image using the coordinates\n",
    "    trimmed_image = image.crop((x0, y0, x1 + 1, y1 + 1))\n",
    "else:\n",
    "    trimmed_image = image  # No cropping needed\n",
    "\n",
    "# Save the trimmed image\n",
    "output_image_path = '/home/santoshpalaskar77/IE_643/TexTeller/src/saved_converted_imges/converted_trimmed_png1.png'  # Change to .jpg for JPG format\n",
    "trimmed_image.save(output_image_path, 'PNG')  # Change 'PNG' to 'JPEG' for JPG format\n",
    "\n"
   ]
  },
  {
   "cell_type": "code",
   "execution_count": null,
   "metadata": {},
   "outputs": [],
   "source": []
  }
 ],
 "metadata": {
  "kernelspec": {
   "display_name": "texteller",
   "language": "python",
   "name": "python3"
  },
  "language_info": {
   "codemirror_mode": {
    "name": "ipython",
    "version": 3
   },
   "file_extension": ".py",
   "mimetype": "text/x-python",
   "name": "python",
   "nbconvert_exporter": "python",
   "pygments_lexer": "ipython3",
   "version": "3.10.15"
  }
 },
 "nbformat": 4,
 "nbformat_minor": 2
}
